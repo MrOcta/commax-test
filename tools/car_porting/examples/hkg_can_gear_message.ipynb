{
 "cells": [
  {
   "cell_type": "code",
   "execution_count": 62,
   "id": "228a6736-de31-4255-9d72-a6ff391b968d",
   "metadata": {},
   "outputs": [
    {
     "name": "stdout",
     "output_type": "stream",
     "text": [
     ]
    }
   ],
   "source": [
    "from opendbc.car import structs\n",
    "from opendbc.car.hyundai.values import CAR, HyundaiFlags\n",
    "from opendbc.car.hyundai.fingerprints import FW_VERSIONS\n",
    "\n",
    "TEST_PLATFORMS = set(CAR.with_flags(HyundaiFlags.CANFD)) & set(CAR.with_flags(HyundaiFlags.EV))  # CAN-FD electric vehicles only\n",
    "#TEST_PLATFORMS = set(CAR.with_flags(HyundaiFlags.CANFD)) - set(CAR.with_flags(HyundaiFlags.EV))  # CAN-FD hybrid and ICE vehicles only\n",
    "\n",
    "print(f\"Found {len(TEST_PLATFORMS)} qualifying vehicles:\")\n",
    "for platform in TEST_PLATFORMS:\n",
    "  print(f\"  {platform}\")"
   ]
  },
  {
   "cell_type": "code",
   "execution_count": 63,
   "id": "ed1c8aec-c274-4c61-b83d-711ea194bf86",
   "metadata": {},
   "outputs": [
    {
     "name": "stdout",
     "output_type": "stream",
     "text": [
     ]
    }
   ],
   "source": [
    "import random\n",
    "\n",
    "from openpilot.tools.lib.logreader import LogReader\n",
    "from openpilot.tools.lib.comma_car_segments import get_comma_car_segments_database\n",
    "from opendbc.car.hyundai.values import CAR\n",
    "\n",
    "database = get_comma_car_segments_database()\n",
    "TEST_SEGMENTS = []\n",
    "\n",
    "MAX_SEGS_PER_PLATFORM = 5  # TODO: Increase this to search more segments\n",
    "\n",
    "print(\"Collecting segments from commaCarSegments dataset:\")\n",
    "for platform in TEST_PLATFORMS:\n",
    "  assert(platform in database)\n",
    "  #if platform not in database:\n",
    "  #  print(f\"Skipping platform: {platform}, no data available\")\n",
    "  #  continue\n",
    "  \n",
    "  all_segments = database[platform]\n",
    "\n",
    "  NUM_SEGMENTS = min(len(all_segments), MAX_SEGS_PER_PLATFORM)\n",
    "\n",
    "  print(f\"Got {len(all_segments)} segments for platform {platform}, sampling {NUM_SEGMENTS} segments\")\n",
    "\n",
    "  TEST_SEGMENTS.extend(random.sample(all_segments, NUM_SEGMENTS))\n",
    "\n",
    "print(f\"Collected {len(TEST_SEGMENTS)} segments for analysis\")\n"
   ]
  },
  {
   "cell_type": "code",
   "execution_count": 64,
   "id": "0c75e8f2-4f5f-4f89-b8db-5223a6534a9f",
   "metadata": {},
   "outputs": [
    {
     "name": "stdout",
     "output_type": "stream",
     "text": [
     ]
    }
   ],
   "source": [
    "import copy\n",
    "import matplotlib.pyplot as plt\n",
    "import numpy as np\n",
    "\n",
    "from opendbc.can.parser import CANParser\n",
    "from opendbc.car.hyundai.values import DBC\n",
    "from opendbc.car.hyundai.hyundaicanfd import CanBus\n",
    "\n",
    "from openpilot.selfdrive.pandad import can_capnp_to_list\n",
    "from openpilot.tools.lib.logreader import LogReader\n",
    "\n",
    "message_names = [\"GEAR_SHIFTER\", \"ACCELERATOR\", \"GEAR\", \"GEAR_ALT\", \"GEAR_ALT_2\"]\n",
    "\n",
    "for segment in TEST_SEGMENTS:\n",
    "  lr = LogReader(segment)\n",
    "  CP = lr.first(\"carParams\")\n",
    "  if CP is None:\n",
    "    continue\n",
    "\n",
    "  can_msgs = [msg for msg in lr if msg.which() == \"can\"]\n",
    "  parser_messages = []\n",
    "  for name in message_names:\n",
    "    parser_messages.append((name, 0))\n",
    "  cp = CANParser(DBC[platform][\"pt\"], parser_messages, CanBus(CP).ECAN)\n",
    "\n",
    "  parsed_message_history = []\n",
    "  examples = []\n",
    "\n",
    "  for msg in can_msgs:\n",
    "    cp.update_strings(can_capnp_to_list([msg.as_builder().to_bytes()]))\n",
    "    parsed_message_history.append(copy.copy(cp.vl))\n",
    "\n",
    "  print(f\"Analyzing segment {segment:<44} for {CP.carFingerprint}\")\n",
    "  for name in message_names:\n",
    "    if parsed_message_history[0][name][\"CHECKSUM\"] != 0:  # Message is present for this segment\n",
    "      gear_prev = parsed_message_history[0][name][\"GEAR\"]\n",
    "      print(f\"  {name:<15} gear={gear_prev}\")\n",
    "      for i, parsed_messages in enumerate(parsed_message_history):\n",
    "        gear = parsed_messages[name][\"GEAR\"]\n",
    "        if gear != gear_prev:\n",
    "          print(f\"  *** Signal transition found! ***\")\n",
    "          examples.append(i)\n",
    "        gear_prev = gear\n",
    "\n",
    "print(f\"Analysis finished\")\n"
   ]
  },
  {
   "cell_type": "code",
   "execution_count": null,
   "id": "7724dd97-f62e-4fd3-9f64-63d49be669d2",
   "metadata": {},
   "outputs": [],
   "source": []
  },
  {
   "cell_type": "code",
   "execution_count": null,
   "id": "9f393e00-8efd-40fb-a41e-d312531a83e8",
   "metadata": {},
   "outputs": [],
   "source": []
  }
 ],
 "metadata": {
  "kernelspec": {
   "display_name": "Python 3 (ipykernel)",
   "language": "python",
   "name": "python3"
  },
  "language_info": {
   "codemirror_mode": {
    "name": "ipython",
    "version": 3
   },
   "file_extension": ".py",
   "mimetype": "text/x-python",
   "name": "python",
   "nbconvert_exporter": "python",
   "pygments_lexer": "ipython3",
   "version": "3.12.3"
  }
 },
 "nbformat": 4,
 "nbformat_minor": 5
}
