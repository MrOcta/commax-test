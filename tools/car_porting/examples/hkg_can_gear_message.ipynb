{
 "cells": [
  {
   "cell_type": "code",
   "execution_count": 17,
   "id": "228a6736-de31-4255-9d72-a6ff391b968d",
   "metadata": {},
   "outputs": [
    {
     "name": "stdout",
     "output_type": "stream",
     "text": [
      "Found 21 qualifying vehicles:\n",
      "  HYUNDAI_IONIQ_EV_LTD\n",
      "  KIA_NIRO_EV\n",
      "  HYUNDAI_IONIQ_HEV_2022\n",
      "  HYUNDAI_IONIQ_PHEV\n",
      "  HYUNDAI_KONA_HEV\n",
      "  KIA_NIRO_PHEV\n",
      "  HYUNDAI_IONIQ\n",
      "  KIA_K5_HEV_2020\n",
      "  HYUNDAI_KONA_EV_2022\n",
      "  HYUNDAI_IONIQ_PHEV_2019\n",
      "  HYUNDAI_SANTA_FE_PHEV_2022\n",
      "  HYUNDAI_SONATA_HYBRID\n",
      "  HYUNDAI_AZERA_HEV_6TH_GEN\n",
      "  HYUNDAI_IONIQ_EV_2020\n",
      "  KIA_NIRO_PHEV_2022\n",
      "  KIA_OPTIMA_H_G4_FL\n",
      "  HYUNDAI_SANTA_FE_HEV_2022\n",
      "  HYUNDAI_ELANTRA_HEV_2021\n",
      "  HYUNDAI_KONA_EV\n",
      "  KIA_OPTIMA_H\n",
      "  KIA_NIRO_HEV_2021\n"
     ]
    }
   ],
   "source": [
    "from opendbc.car import structs\n",
    "from opendbc.car.hyundai.values import CAR, HyundaiFlags\n",
    "from opendbc.car.hyundai.fingerprints import FW_VERSIONS\n",
    "\n",
    "TEST_PLATFORMS = set(CAR.with_flags(HyundaiFlags.EV | HyundaiFlags.HYBRID)) - set(CAR.with_flags(HyundaiFlags.CANFD))  # CAN hybrid and electric vehicles only\n",
    "#TEST_PLATFORMS = [CAR.HYUNDAI_IONIQ_PHEV, ]\n",
    "\n",
    "print(f\"Found {len(TEST_PLATFORMS)} qualifying vehicles:\")\n",
    "for platform in TEST_PLATFORMS:\n",
    "  print(f\"  {platform}\")"
   ]
  },
  {
   "cell_type": "code",
   "execution_count": 20,
   "id": "ed1c8aec-c274-4c61-b83d-711ea194bf86",
   "metadata": {},
   "outputs": [
    {
     "name": "stdout",
     "output_type": "stream",
     "text": [
      "Collecting segments from commaCarSegments dataset:\n",
      "Got 9 segments for platform HYUNDAI_IONIQ_EV_LTD, sampling 9 segments\n",
      "Got 1201 segments for platform KIA_NIRO_EV, sampling 1201 segments\n",
      "Got 4 segments for platform HYUNDAI_IONIQ_HEV_2022, sampling 4 segments\n",
      "Got 1115 segments for platform HYUNDAI_IONIQ_PHEV, sampling 1115 segments\n",
      "Got 3 segments for platform HYUNDAI_KONA_HEV, sampling 3 segments\n",
      "Got 86 segments for platform KIA_NIRO_PHEV, sampling 86 segments\n",
      "Got 348 segments for platform HYUNDAI_IONIQ, sampling 348 segments\n",
      "Got 3 segments for platform KIA_K5_HEV_2020, sampling 3 segments\n",
      "Got 440 segments for platform HYUNDAI_KONA_EV_2022, sampling 440 segments\n",
      "Got 3 segments for platform HYUNDAI_IONIQ_PHEV_2019, sampling 3 segments\n",
      "Got 1050 segments for platform HYUNDAI_SANTA_FE_PHEV_2022, sampling 1050 segments\n",
      "Got 1062 segments for platform HYUNDAI_SONATA_HYBRID, sampling 1062 segments\n",
      "Got 4 segments for platform HYUNDAI_AZERA_HEV_6TH_GEN, sampling 4 segments\n",
      "Got 274 segments for platform HYUNDAI_IONIQ_EV_2020, sampling 274 segments\n",
      "Got 3 segments for platform KIA_NIRO_PHEV_2022, sampling 3 segments\n",
      "Got 3 segments for platform KIA_OPTIMA_H_G4_FL, sampling 3 segments\n",
      "Got 892 segments for platform HYUNDAI_SANTA_FE_HEV_2022, sampling 892 segments\n",
      "Got 1043 segments for platform HYUNDAI_ELANTRA_HEV_2021, sampling 1043 segments\n",
      "Got 1015 segments for platform HYUNDAI_KONA_EV, sampling 1015 segments\n",
      "Got 3 segments for platform KIA_OPTIMA_H, sampling 3 segments\n",
      "Got 546 segments for platform KIA_NIRO_HEV_2021, sampling 546 segments\n",
      "Collected 9107 segments for analysis\n"
     ]
    }
   ],
   "source": [
    "from openpilot.tools.lib.logreader import LogReader\n",
    "from openpilot.tools.lib.comma_car_segments import get_comma_car_segments_database\n",
    "from opendbc.car.hyundai.values import CAR\n",
    "\n",
    "database = get_comma_car_segments_database()\n",
    "TEST_SEGMENTS = []\n",
    "\n",
    "MAX_SEGS_PER_PLATFORM = 1115  # TODO: Increase this to search more segments\n",
    "\n",
    "print(\"Collecting segments from commaCarSegments dataset:\")\n",
    "for platform in TEST_PLATFORMS:\n",
    "  assert(platform in database)\n",
    "  #if platform not in database:\n",
    "  #  print(f\"Skipping platform: {platform}, no data available\")\n",
    "  #  continue\n",
    "  \n",
    "  all_segments = database[platform]\n",
    "\n",
    "  #NUM_SEGMENTS = min(len(all_segments), MAX_SEGS_PER_PLATFORM)\n",
    "  NUM_SEGMENTS = len(all_segments)\n",
    "\n",
    "  print(f\"Got {len(all_segments)} segments for platform {platform}, sampling {NUM_SEGMENTS} segments\")\n",
    "\n",
    "  TEST_SEGMENTS.extend(all_segments)\n",
    "\n",
    "print(f\"Collected {len(TEST_SEGMENTS)} segments for analysis\")\n"
   ]
  },
  {
   "cell_type": "code",
   "execution_count": 22,
   "id": "0c75e8f2-4f5f-4f89-b8db-5223a6534a9f",
   "metadata": {},
   "outputs": [
    {
     "name": "stdout",
     "output_type": "stream",
     "text": [
      "Analyzing segment 1220/9107    \n",
      "Non-Drive gear found in segment 201c5aaced09a24a/2023-05-20--12-39-01/15/s   for HYUNDAI IONIQ PHEV 2020\n",
      "  ELECT_GEAR      gear=4.0\n",
      "Analyzing segment 1224/9107    \n",
      "Non-Drive gear found in segment b28e9dbe4004e915/2023-06-11--19-55-28/2/s    for HYUNDAI IONIQ PHEV 2020\n",
      "  ELECT_GEAR      gear=4.0\n",
      "Analyzing segment 9107/9107 ...\n",
      "Analysis finished. Total segments analyzed: 9107\n"
     ]
    }
   ],
   "source": [
    "import copy\n",
    "import sys\n",
    "import time\n",
    "import matplotlib.pyplot as plt\n",
    "import numpy as np\n",
    "\n",
    "from opendbc.can.parser import CANParser\n",
    "from opendbc.car import Bus\n",
    "from opendbc.car.hyundai.values import DBC\n",
    "\n",
    "from openpilot.selfdrive.pandad import can_capnp_to_list\n",
    "from openpilot.tools.lib.logreader import LogReader\n",
    "\n",
    "analyzed_segments_count = 0\n",
    "dot_counter = 0\n",
    "\n",
    "print(\"Analyzing segments\", end=\"\", flush=True)\n",
    "for segment in TEST_SEGMENTS:\n",
    "  lr = LogReader(segment)\n",
    "  CP = lr.first(\"carParams\")\n",
    "  if CP is None:\n",
    "    continue\n",
    "\n",
    "  can_msgs = [msg for msg in lr if msg.which() == \"can\"]\n",
    "  parser_messages = [(\"ELECT_GEAR\", 0)]\n",
    "  cp = CANParser(DBC[platform][Bus.pt], parser_messages, 0)\n",
    "\n",
    "  parsed_message_history = []\n",
    "\n",
    "  for msg in can_msgs:\n",
    "    cp.update_strings(can_capnp_to_list([msg.as_builder().to_bytes()]))\n",
    "    parsed_message_history.append(copy.copy(cp.vl))\n",
    "\n",
    "  for message in parsed_message_history:\n",
    "    if message[\"ELECT_GEAR\"][\"Elect_Gear_Shifter\"] in (4, 4.0):  # Sport gear\n",
    "      gear = message[\"ELECT_GEAR\"][\"Elect_Gear_Shifter\"]\n",
    "      print(f\"\\nNon-Drive gear found in segment {segment:<44} for {CP.carFingerprint}\")\n",
    "      print(f\"  {\"ELECT_GEAR\":<15} gear={gear}\")\n",
    "      break\n",
    "\n",
    "  analyzed_segments_count += 1\n",
    "\n",
    "  dot_counter = (dot_counter + 1) % 4\n",
    "  sys.stdout.write(f\"\\rAnalyzing segment {analyzed_segments_count}/{len(TEST_SEGMENTS)} {'.' * dot_counter}{' ' * (3 - dot_counter)}\")\n",
    "  sys.stdout.flush()\n",
    "\n",
    "print(f\"\\nAnalysis finished. Total segments analyzed: {analyzed_segments_count}\")\n"
   ]
  },
  {
   "cell_type": "code",
   "execution_count": null,
   "id": "7724dd97-f62e-4fd3-9f64-63d49be669d2",
   "metadata": {},
   "outputs": [],
   "source": []
  },
  {
   "cell_type": "code",
   "execution_count": null,
   "id": "9f393e00-8efd-40fb-a41e-d312531a83e8",
   "metadata": {},
   "outputs": [],
   "source": []
  }
 ],
 "metadata": {
  "kernelspec": {
   "display_name": "Python 3 (ipykernel)",
   "language": "python",
   "name": "python3"
  },
  "language_info": {
   "codemirror_mode": {
    "name": "ipython",
    "version": 3
   },
   "file_extension": ".py",
   "mimetype": "text/x-python",
   "name": "python",
   "nbconvert_exporter": "python",
   "pygments_lexer": "ipython3",
   "version": "3.12.0"
  }
 },
 "nbformat": 4,
 "nbformat_minor": 5
}
