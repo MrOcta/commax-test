{
 "cells": [
  {
   "cell_type": "code",
   "execution_count": 61,
   "id": "228a6736-de31-4255-9d72-a6ff391b968d",
   "metadata": {},
   "outputs": [
    {
     "name": "stdout",
     "output_type": "stream",
     "text": [
      "Searching 221 platforms\n"
     ]
    }
   ],
   "source": [
    "# Import all cars from opendbc\n",
    "\n",
    "from opendbc.car import structs\n",
    "from opendbc.car.values import PLATFORMS as TEST_PLATFORMS\n",
    "\n",
    "# Apply any platform selection/filtering here\n",
    "\n",
    "print(f\"Searching {len(TEST_PLATFORMS)} platforms\")"
   ]
  },
  {
   "cell_type": "code",
   "execution_count": 62,
   "id": "ed1c8aec-c274-4c61-b83d-711ea194bf86",
   "metadata": {},
   "outputs": [
    {
     "name": "stdout",
     "output_type": "stream",
     "text": [
      "No segments available for DODGE_DURANGO\n",
      "No segments available for FORD_RANGER_MK2\n",
      "No segments available for HOLDEN_ASTRA\n",
      "No segments available for CADILLAC_ATS\n",
      "No segments available for CHEVROLET_MALIBU\n",
      "No segments available for CADILLAC_XT4\n",
      "No segments available for CHEVROLET_VOLT_2019\n",
      "No segments available for CHEVROLET_TRAVERSE\n",
      "No segments available for GMC_YUKON\n",
      "No segments available for HONDA_ODYSSEY_CHN\n",
      "No segments available for HYUNDAI_KONA_2022\n",
      "No segments available for HYUNDAI_NEXO_1ST_GEN\n",
      "No segments available for GENESIS_GV70_ELECTRIFIED_1ST_GEN\n",
      "No segments available for GENESIS_G80_2ND_GEN_FL\n",
      "No segments available for RIVIAN_R1_GEN1\n",
      "No segments available for SUBARU_FORESTER_HYBRID\n",
      "No segments available for TESLA_MODEL_3\n",
      "No segments available for TESLA_MODEL_Y\n",
      "No segments available for TOYOTA_RAV4_PRIME\n",
      "No segments available for TOYOTA_SIENNA_4TH_GEN\n",
      "No segments available for LEXUS_LC_TSS2\n",
      "No segments available for VOLKSWAGEN_CADDY_MK3\n",
      "No segments available for VOLKSWAGEN_CRAFTER_MK2\n",
      "No segments available for VOLKSWAGEN_JETTA_MK6\n",
      "Searching 577 segments\n"
     ]
    }
   ],
   "source": [
    "import random\n",
    "\n",
    "from openpilot.tools.lib.logreader import LogReader\n",
    "from openpilot.tools.lib.comma_car_segments import get_comma_car_segments_database\n",
    "\n",
    "database = get_comma_car_segments_database()\n",
    "TEST_SEGMENTS = []\n",
    "\n",
    "MAX_SEGS_PER_PLATFORM = 3  # Increase this to search more segments\n",
    "\n",
    "for platform in TEST_PLATFORMS:\n",
    "  if platform not in database:\n",
    "    print(f\"No segments available for {platform}\")\n",
    "    continue\n",
    "  \n",
    "  all_segments = database[platform]\n",
    "  NUM_SEGMENTS = min(len(all_segments), MAX_SEGS_PER_PLATFORM)\n",
    "  TEST_SEGMENTS.extend(random.sample(all_segments, NUM_SEGMENTS))\n",
    "\n",
    "print(f\"Searching {len(TEST_SEGMENTS)} segments\")\n"
   ]
  },
  {
   "cell_type": "code",
   "execution_count": null,
   "id": "0c75e8f2-4f5f-4f89-b8db-5223a6534a9f",
   "metadata": {},
   "outputs": [
    {
     "data": {
      "application/vnd.jupyter.widget-view+json": {
       "model_id": "bd3e8a0784c44c4eb6638624e8b05e71",
       "version_major": 2,
       "version_minor": 0
      },
      "text/plain": [
       "segments searched:   0%|          | 0/577 [00:00<?, ?it/s]"
      ]
     },
     "metadata": {},
     "output_type": "display_data"
    },
    {
     "name": "stdout",
     "output_type": "stream",
     "text": [
      "Match found: 0f53b336851e1384/2024-01-14--09-23-09/22/s    CHRYSLER PACIFICA HYBRID 2018          ['VW CAN Ign']\n",
      "Match found: 268be6212ca01164/2023-12-13--14-24-23/9/s     CHRYSLER PACIFICA HYBRID 2018          ['VW CAN Ign']\n",
      "Match found: d753e5427226080e/2023-12-22--20-03-07/14/s    CHRYSLER PACIFICA HYBRID 2018          ['VW CAN Ign']\n",
      "Match found: ec8aef9196cb9d87/2023-12-09--09-32-50/4/s     CHRYSLER PACIFICA HYBRID 2019          ['VW CAN Ign']\n",
      "Match found: 35176353a674cbdc/2023-06-04--18-26-00/52/s    CHRYSLER PACIFICA HYBRID 2019          ['VW CAN Ign']\n",
      "Match found: 10159b993b12b295/2024-01-16--22-13-36/15/s    CHRYSLER PACIFICA HYBRID 2019          ['VW CAN Ign']\n",
      "Match found: 12e966025220f57c/2023-12-31--11-02-21/450/s   CHRYSLER PACIFICA 2018                 ['VW CAN Ign']\n",
      "Match found: 7e705eb5c27a49cc/2024-01-16--14-16-00/4/s     CHRYSLER PACIFICA 2018                 ['VW CAN Ign']\n",
      "Match found: 7e705eb5c27a49cc/2023-11-22--14-04-22/12/s    CHRYSLER PACIFICA 2018                 ['VW CAN Ign']\n",
      "Match found: 70d27b3a88b6d4b5/2023-12-12--13-42-14/6/s     CHRYSLER PACIFICA 2020                 ['VW CAN Ign']\n",
      "Match found: 75564b71f403c136/2023-11-23--14-05-20/61/s    CHRYSLER PACIFICA 2020                 ['VW CAN Ign']\n",
      "Match found: 71d2a3f0c6c364e0/2023-11-20--12-11-47/14/s    CHRYSLER PACIFICA 2020                 ['VW CAN Ign']\n",
      "Match found: d50ada8ee55a5e74/2023-12-20--13-34-06/5/s     JEEP GRAND CHEROKEE V6 2018            ['VW CAN Ign']\n",
      "Match found: d50ada8ee55a5e74/2024-01-04--13-43-57/7/s     JEEP GRAND CHEROKEE V6 2018            ['VW CAN Ign']\n",
      "Match found: a63a23c3e628f288/2024-01-22--16-19-18/5/s     JEEP GRAND CHEROKEE V6 2018            ['VW CAN Ign']\n",
      "Match found: ce31b7a998781ba8/2024-01-19--07-05-29/21/s    JEEP GRAND CHEROKEE 2019               ['VW CAN Ign']\n",
      "Match found: 1cc3b46843cad2ca/2024-01-13--15-51-30/25/s    JEEP GRAND CHEROKEE 2019               ['VW CAN Ign']\n",
      "Match found: 4ffe7a3fb831a625/2024-01-04--09-15-33/13/s    JEEP GRAND CHEROKEE 2019               ['VW CAN Ign']\n",
      "Match found: ae679616266f4096/2024-01-22--11-31-12/3/s     RAM HD 5TH GEN                         ['Tesla 3/Y CAN Ign']\n",
      "Match found: ae679616266f4096/2023-12-28--14-32-26/10/s    RAM HD 5TH GEN                         ['Tesla 3/Y CAN Ign']\n",
      "Match found: ae679616266f4096/2023-12-16--11-42-29/2/s     RAM HD 5TH GEN                         ['Tesla 3/Y CAN Ign']\n",
      "Match found: 6dae2984cc53cd7f/2023-12-07--08-57-17/4/s     FORD BRONCO SPORT 1ST GEN              ['Rivian CAN Ign']\n",
      "Match found: 6dae2984cc53cd7f/2023-11-28--08-10-08/5/s     FORD BRONCO SPORT 1ST GEN              ['Rivian CAN Ign']\n",
      "Match found: 440a155809ba2b6d/2023-12-23--09-12-54/19/s    FORD BRONCO SPORT 1ST GEN              ['Rivian CAN Ign']\n",
      "Match found: a4218e6416dfd978/2023-11-10--14-35-11/1/s     FORD ESCAPE 4TH GEN                    ['Rivian CAN Ign']\n",
      "Match found: a4218e6416dfd978/2023-11-27--13-48-46/19/s    FORD ESCAPE 4TH GEN                    ['Rivian CAN Ign']\n",
      "Match found: a4218e6416dfd978/2023-12-05--16-18-54/28/s    FORD ESCAPE 4TH GEN                    ['Rivian CAN Ign']\n",
      "Match found: 9e352ed9b959b030/2023-11-28--11-46-17/7/s     FORD EXPLORER 6TH GEN                  ['Rivian CAN Ign']\n",
      "Match found: cc1cdca07c7de017/2023-12-06--08-47-53/52/s    FORD EXPLORER 6TH GEN                  ['Rivian CAN Ign']\n",
      "Match found: 8a732841c3a8d5ef/2023-11-03--16-02-02/8/s     FORD EXPLORER 6TH GEN                  ['Rivian CAN Ign']\n",
      "Match found: e886087f430e7fe7/2023-11-05--19-59-40/48/s    FORD FOCUS 4TH GEN                     ['Rivian CAN Ign']\n",
      "Match found: e886087f430e7fe7/2023-11-05--19-59-40/47/s    FORD FOCUS 4TH GEN                     ['Rivian CAN Ign']\n",
      "Match found: e886087f430e7fe7/2023-11-05--19-59-40/70/s    FORD FOCUS 4TH GEN                     ['Rivian CAN Ign']\n",
      "Match found: 947cb0f7b93b7b15/2023-11-25--13-50-10/6/s     FORD MAVERICK 1ST GEN                  ['Rivian CAN Ign']\n",
      "Match found: c4caba87633ecc06/2023-12-22--00-09-34/4/s     FORD MAVERICK 1ST GEN                  ['Rivian CAN Ign']\n",
      "Match found: 90678d1470cad364/2023-12-11--19-15-40/17/s    CHEVROLET VOLT PREMIER 2017            ['GM CAN Ign']\n",
      "Match found: 90678d1470cad364/2023-12-05--19-08-47/44/s    CHEVROLET VOLT PREMIER 2017            ['GM CAN Ign']\n",
      "Match found: fed69e3ca8d279dc/2024-01-05--18-40-41/21/s    CHEVROLET VOLT PREMIER 2017            ['GM CAN Ign']\n",
      "Match found: 01337c25ccbf3064/2023-11-27--17-36-52/6/s     GMC ACADIA DENALI 2018                 ['GM CAN Ign']\n",
      "Match found: 8617b9af94314488/2023-12-12--04-49-58/1/s     BUICK LACROSSE 2017                    ['GM CAN Ign']\n",
      "Match found: 8617b9af94314488/2023-12-14--05-32-25/11/s    BUICK LACROSSE 2017                    ['GM CAN Ign']\n",
      "Match found: 75a6bcb9b8b40373/2023-03-11--22-47-33/2/s     BUICK LACROSSE 2017                    ['GM CAN Ign']\n",
      "Match found: defd7f8491ad9254/2023-12-02--09-45-00/23/s    CADILLAC ESCALADE 2017                 ['GM CAN Ign']\n",
      "Match found: defd7f8491ad9254/2023-12-18--13-24-20/20/s    CADILLAC ESCALADE 2017                 ['GM CAN Ign']\n",
      "Match found: defd7f8491ad9254/2023-12-17--18-37-26/33/s    CADILLAC ESCALADE 2017                 ['GM CAN Ign']\n",
      "Match found: 46460f0da08e621e/2021-10-26--07-21-46/0/s     CADILLAC ESCALADE ESV 2016             ['GM CAN Ign']\n",
      "Match found: 46460f0da08e621e/2021-10-26--07-21-46/1/s     CADILLAC ESCALADE ESV 2016             ['GM CAN Ign']\n"
     ]
    }
   ],
   "source": [
    "from openpilot.tools.lib.logreader import LogReader\n",
    "from tqdm.notebook import tqdm, tnrange\n",
    "\n",
    "# Example search for CAN ignition messages\n",
    "# Be careful when filtering by bus, account for external Red Panda or odd harness arrangements on Honda/HKG\n",
    "\n",
    "BUSES_TO_SEARCH = [0, 1, 2]\n",
    "\n",
    "MESSAGES_TO_FIND = {\n",
    "  0x1F1: \"GM CAN Ign\",\n",
    "  0x152: \"Rivian CAN Ign\",\n",
    "  0x221: \"Tesla 3/Y CAN Ign\",\n",
    "  0x9E:  \"Mazda CAN Ign\",\n",
    "  0x3C0: \"VW CAN Ign\",\n",
    "}\n",
    "\n",
    "progress_bar = tnrange(len(TEST_SEGMENTS), desc=\"segments searched\")\n",
    "\n",
    "for segment in TEST_SEGMENTS:\n",
    "  lr = LogReader(segment)\n",
    "  CP = lr.first(\"carParams\")\n",
    "  if CP is None:\n",
    "    continue\n",
    "\n",
    "  can_packets = [msg for msg in lr if msg.which() == \"can\"]\n",
    "  matched_messages = set()\n",
    "\n",
    "  for packet in can_packets:\n",
    "    for msg in packet.can:\n",
    "      if msg.address in MESSAGES_TO_FIND and msg.src in BUSES_TO_SEARCH:\n",
    "        # print(msg)\n",
    "        matched_messages.add(msg.address)\n",
    "\n",
    "  if len(matched_messages) > 0:\n",
    "    message_names = [MESSAGES_TO_FIND[message] for message in matched_messages]\n",
    "    print(f\"Match found: {segment:<45} {CP.carFingerprint:<38} {message_names}\")\n",
    "\n",
    "  progress_bar.update()\n"
   ]
  },
  {
   "cell_type": "code",
   "execution_count": null,
   "id": "7724dd97-f62e-4fd3-9f64-63d49be669d2",
   "metadata": {},
   "outputs": [],
   "source": []
  },
  {
   "cell_type": "code",
   "execution_count": null,
   "id": "9f393e00-8efd-40fb-a41e-d312531a83e8",
   "metadata": {},
   "outputs": [],
   "source": []
  }
 ],
 "metadata": {
  "kernelspec": {
   "display_name": "Python 3 (ipykernel)",
   "language": "python",
   "name": "python3"
  },
  "language_info": {
   "codemirror_mode": {
    "name": "ipython",
    "version": 3
   },
   "file_extension": ".py",
   "mimetype": "text/x-python",
   "name": "python",
   "nbconvert_exporter": "python",
   "pygments_lexer": "ipython3",
   "version": "3.12.0"
  }
 },
 "nbformat": 4,
 "nbformat_minor": 5
}
