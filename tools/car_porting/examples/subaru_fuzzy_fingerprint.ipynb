{
 "cells": [
  {
   "cell_type": "code",
   "execution_count": 22,
   "metadata": {},
   "outputs": [],
   "source": [
    "from cereal import car\n",
    "from opendbc.car.subaru.values import CAR, SubaruFlags\n",
    "from opendbc.car.subaru.fingerprints import FW_VERSIONS\n",
    "\n",
    "TEST_PLATFORMS = set(CAR) - CAR.with_flags(SubaruFlags.PREGLOBAL)\n",
    "\n",
    "Ecu = car.CarParams.Ecu\n",
    "\n",
    "FW_BY_ECU = {platform: {ecu: versions for (ecu, addr, sub_addr), versions in fw_versions.items()} for platform, fw_versions in FW_VERSIONS.items()}"
   ]
  },
  {
   "cell_type": "code",
   "execution_count": 23,
   "metadata": {},
   "outputs": [],
   "source": [
    "PLATFORM_CODES = {\n",
    "    Ecu.abs: {\n",
    "        0: {\n",
    "            b'\\xa5': [CAR.SUBARU_ASCENT, CAR.SUBARU_ASCENT_2023],\n",
    "            b'\\xa2': [CAR.SUBARU_IMPREZA, CAR.SUBARU_IMPREZA_2020, CAR.SUBARU_CROSSTREK_HYBRID],\n",
    "            b'\\xa1': [CAR.SUBARU_OUTBACK, CAR.SUBARU_LEGACY, CAR.SUBARU_OUTBACK_2023],\n",
    "            b'\\xa3': [CAR.SUBARU_FORESTER, CAR.SUBARU_FORESTER_HYBRID, CAR.SUBARU_FORESTER_2022],\n",
    "            b'z': [CAR.SUBARU_IMPREZA],\n",
    "        }\n",
    "    }\n",
    "}\n",
    "\n",
    "YEAR_CODES = {\n",
    "    Ecu.abs: {\n",
    "        2: {\n",
    "            b'\\x18': 2018,\n",
    "            b'\\x19': 2019,\n",
    "            b'\\x20': 2020,\n",
    "            b'\\x21': 2021,\n",
    "            b'\\x22': 2022,\n",
    "            b'\\x23': 2023,\n",
    "        }\n",
    "    }\n",
    "}"
   ]
  },
  {
   "cell_type": "code",
   "execution_count": 24,
   "metadata": {},
   "outputs": [],
   "source": [
    "def get_codes(platforms, codes):\n",
    "  results = []\n",
    "  for platform in platforms:\n",
    "    for ecu in codes:\n",
    "      for i in codes[ecu]:\n",
    "        if isinstance(i, tuple):\n",
    "          j = slice(i[0], i[1])\n",
    "        else:\n",
    "          j = slice(i, i+1)\n",
    "        for version in FW_BY_ECU[platform][ecu]:\n",
    "          code = version[j]\n",
    "          if code not in codes[ecu][i]:\n",
    "            print(f\"{platform} {code.hex()} not in {codes[ecu][i].keys()}\")\n",
    "          else:\n",
    "            results.append((platform, codes[ecu][i][code]))\n",
    "  return results"
   ]
  },
  {
   "cell_type": "code",
   "execution_count": 25,
   "metadata": {},
   "outputs": [
    {
     "ename": "KeyError",
     "evalue": "1",
     "output_type": "error",
     "traceback": [
      "\u001b[0;31m---------------------------------------------------------------------------\u001b[0m",
      "\u001b[0;31mKeyError\u001b[0m                                  Traceback (most recent call last)",
      "Cell \u001b[0;32mIn[25], line 9\u001b[0m\n\u001b[1;32m      6\u001b[0m   correct_year \u001b[38;5;241m=\u001b[39m year \u001b[38;5;129;01min\u001b[39;00m years\n\u001b[1;32m      7\u001b[0m   \u001b[38;5;28mprint\u001b[39m(\u001b[38;5;124mf\u001b[39m\u001b[38;5;124m\"\u001b[39m\u001b[38;5;132;01m{\u001b[39;00mcorrect_year\u001b[38;5;132;01m=!s:\u001b[39;00m\u001b[38;5;124m <6\u001b[39m\u001b[38;5;132;01m}\u001b[39;00m\u001b[38;5;124m \u001b[39m\u001b[38;5;132;01m{\u001b[39;00mplatform\u001b[38;5;132;01m=:\u001b[39;00m\u001b[38;5;124m <32\u001b[39m\u001b[38;5;132;01m}\u001b[39;00m\u001b[38;5;124m \u001b[39m\u001b[38;5;132;01m{\u001b[39;00myear\u001b[38;5;132;01m=:\u001b[39;00m\u001b[38;5;124m <5\u001b[39m\u001b[38;5;132;01m}\u001b[39;00m\u001b[38;5;124m \u001b[39m\u001b[38;5;132;01m{\u001b[39;00myears\u001b[38;5;132;01m=}\u001b[39;00m\u001b[38;5;124m\"\u001b[39m)\n\u001b[0;32m----> 9\u001b[0m codes \u001b[38;5;241m=\u001b[39m \u001b[43mget_codes\u001b[49m\u001b[43m(\u001b[49m\u001b[43mTEST_PLATFORMS\u001b[49m\u001b[43m,\u001b[49m\u001b[43m \u001b[49m\u001b[43mYEAR_CODES\u001b[49m\u001b[43m)\u001b[49m\n\u001b[1;32m     10\u001b[0m \u001b[38;5;28;01mfor\u001b[39;00m platform, year \u001b[38;5;129;01min\u001b[39;00m codes:\n\u001b[1;32m     11\u001b[0m   test_year_code(platform, year)\n",
      "Cell \u001b[0;32mIn[24], line 10\u001b[0m, in \u001b[0;36mget_codes\u001b[0;34m(platforms, codes)\u001b[0m\n\u001b[1;32m      8\u001b[0m \u001b[38;5;28;01melse\u001b[39;00m:\n\u001b[1;32m      9\u001b[0m   j \u001b[38;5;241m=\u001b[39m \u001b[38;5;28mslice\u001b[39m(i, i\u001b[38;5;241m+\u001b[39m\u001b[38;5;241m1\u001b[39m)\n\u001b[0;32m---> 10\u001b[0m \u001b[38;5;28;01mfor\u001b[39;00m version \u001b[38;5;129;01min\u001b[39;00m \u001b[43mFW_BY_ECU\u001b[49m\u001b[43m[\u001b[49m\u001b[43mplatform\u001b[49m\u001b[43m]\u001b[49m\u001b[43m[\u001b[49m\u001b[43mecu\u001b[49m\u001b[43m]\u001b[49m:\n\u001b[1;32m     11\u001b[0m   code \u001b[38;5;241m=\u001b[39m version[j]\n\u001b[1;32m     12\u001b[0m   \u001b[38;5;28;01mif\u001b[39;00m code \u001b[38;5;129;01mnot\u001b[39;00m \u001b[38;5;129;01min\u001b[39;00m codes[ecu][i]:\n",
      "\u001b[0;31mKeyError\u001b[0m: 1"
     ]
    }
   ],
   "source": [
    "def test_year_code(platform, year):\n",
    "  car_docs = CAR(platform).config.car_docs\n",
    "  if isinstance(car_docs, list):\n",
    "    car_docs = car_docs[0]\n",
    "  years = [int(y) for y in car_docs.year_list]\n",
    "  correct_year = year in years\n",
    "  print(f\"{correct_year=!s: <6} {platform=: <32} {year=: <5} {years=}\")\n",
    "\n",
    "codes = get_codes(TEST_PLATFORMS, YEAR_CODES)\n",
    "for platform, year in codes:\n",
    "  test_year_code(platform, year)"
   ]
  },
  {
   "cell_type": "code",
   "execution_count": 5,
   "metadata": {},
   "outputs": [
    {
     "name": "stdout",
     "output_type": "stream",
     "text": [
      "in_possible_platforms=True   platform=SUBARU OUTBACK 7TH GEN           platforms=['SUBARU OUTBACK 6TH GEN', 'SUBARU LEGACY 7TH GEN', 'SUBARU OUTBACK 7TH GEN']\n",
      "in_possible_platforms=True   platform=SUBARU OUTBACK 7TH GEN           platforms=['SUBARU OUTBACK 6TH GEN', 'SUBARU LEGACY 7TH GEN', 'SUBARU OUTBACK 7TH GEN']\n",
      "in_possible_platforms=True   platform=SUBARU OUTBACK 6TH GEN           platforms=['SUBARU OUTBACK 6TH GEN', 'SUBARU LEGACY 7TH GEN', 'SUBARU OUTBACK 7TH GEN']\n",
      "in_possible_platforms=True   platform=SUBARU OUTBACK 6TH GEN           platforms=['SUBARU OUTBACK 6TH GEN', 'SUBARU LEGACY 7TH GEN', 'SUBARU OUTBACK 7TH GEN']\n",
      "in_possible_platforms=True   platform=SUBARU OUTBACK 6TH GEN           platforms=['SUBARU OUTBACK 6TH GEN', 'SUBARU LEGACY 7TH GEN', 'SUBARU OUTBACK 7TH GEN']\n",
      "in_possible_platforms=True   platform=SUBARU OUTBACK 6TH GEN           platforms=['SUBARU OUTBACK 6TH GEN', 'SUBARU LEGACY 7TH GEN', 'SUBARU OUTBACK 7TH GEN']\n",
      "in_possible_platforms=True   platform=SUBARU OUTBACK 6TH GEN           platforms=['SUBARU OUTBACK 6TH GEN', 'SUBARU LEGACY 7TH GEN', 'SUBARU OUTBACK 7TH GEN']\n",
      "in_possible_platforms=True   platform=SUBARU OUTBACK 6TH GEN           platforms=['SUBARU OUTBACK 6TH GEN', 'SUBARU LEGACY 7TH GEN', 'SUBARU OUTBACK 7TH GEN']\n",
      "in_possible_platforms=True   platform=SUBARU OUTBACK 6TH GEN           platforms=['SUBARU OUTBACK 6TH GEN', 'SUBARU LEGACY 7TH GEN', 'SUBARU OUTBACK 7TH GEN']\n",
      "in_possible_platforms=True   platform=SUBARU OUTBACK 6TH GEN           platforms=['SUBARU OUTBACK 6TH GEN', 'SUBARU LEGACY 7TH GEN', 'SUBARU OUTBACK 7TH GEN']\n",
      "in_possible_platforms=True   platform=SUBARU OUTBACK 6TH GEN           platforms=['SUBARU OUTBACK 6TH GEN', 'SUBARU LEGACY 7TH GEN', 'SUBARU OUTBACK 7TH GEN']\n",
      "in_possible_platforms=True   platform=SUBARU OUTBACK 6TH GEN           platforms=['SUBARU OUTBACK 6TH GEN', 'SUBARU LEGACY 7TH GEN', 'SUBARU OUTBACK 7TH GEN']\n",
      "in_possible_platforms=True   platform=SUBARU OUTBACK 6TH GEN           platforms=['SUBARU OUTBACK 6TH GEN', 'SUBARU LEGACY 7TH GEN', 'SUBARU OUTBACK 7TH GEN']\n",
      "in_possible_platforms=True   platform=SUBARU CROSSTREK HYBRID 2020     platforms=['SUBARU IMPREZA LIMITED 2019', 'SUBARU IMPREZA SPORT 2020', 'SUBARU CROSSTREK HYBRID 2020']\n",
      "in_possible_platforms=True   platform=SUBARU CROSSTREK HYBRID 2020     platforms=['SUBARU IMPREZA LIMITED 2019', 'SUBARU IMPREZA SPORT 2020', 'SUBARU CROSSTREK HYBRID 2020']\n",
      "in_possible_platforms=True   platform=SUBARU FORESTER HYBRID 2020      platforms=['SUBARU FORESTER 2019', 'SUBARU FORESTER HYBRID 2020', 'SUBARU FORESTER 2022']\n",
      "in_possible_platforms=True   platform=SUBARU LEGACY 7TH GEN            platforms=['SUBARU OUTBACK 6TH GEN', 'SUBARU LEGACY 7TH GEN', 'SUBARU OUTBACK 7TH GEN']\n",
      "in_possible_platforms=True   platform=SUBARU LEGACY 7TH GEN            platforms=['SUBARU OUTBACK 6TH GEN', 'SUBARU LEGACY 7TH GEN', 'SUBARU OUTBACK 7TH GEN']\n",
      "in_possible_platforms=True   platform=SUBARU LEGACY 7TH GEN            platforms=['SUBARU OUTBACK 6TH GEN', 'SUBARU LEGACY 7TH GEN', 'SUBARU OUTBACK 7TH GEN']\n",
      "in_possible_platforms=True   platform=SUBARU LEGACY 7TH GEN            platforms=['SUBARU OUTBACK 6TH GEN', 'SUBARU LEGACY 7TH GEN', 'SUBARU OUTBACK 7TH GEN']\n",
      "in_possible_platforms=True   platform=SUBARU IMPREZA LIMITED 2019      platforms=['SUBARU IMPREZA LIMITED 2019']\n",
      "in_possible_platforms=True   platform=SUBARU IMPREZA LIMITED 2019      platforms=['SUBARU IMPREZA LIMITED 2019']\n",
      "in_possible_platforms=True   platform=SUBARU IMPREZA LIMITED 2019      platforms=['SUBARU IMPREZA LIMITED 2019']\n",
      "in_possible_platforms=True   platform=SUBARU IMPREZA LIMITED 2019      platforms=['SUBARU IMPREZA LIMITED 2019']\n",
      "in_possible_platforms=True   platform=SUBARU IMPREZA LIMITED 2019      platforms=['SUBARU IMPREZA LIMITED 2019']\n",
      "in_possible_platforms=True   platform=SUBARU IMPREZA LIMITED 2019      platforms=['SUBARU IMPREZA LIMITED 2019']\n",
      "in_possible_platforms=True   platform=SUBARU IMPREZA LIMITED 2019      platforms=['SUBARU IMPREZA LIMITED 2019']\n",
      "in_possible_platforms=True   platform=SUBARU IMPREZA LIMITED 2019      platforms=['SUBARU IMPREZA LIMITED 2019']\n",
      "in_possible_platforms=True   platform=SUBARU IMPREZA LIMITED 2019      platforms=['SUBARU IMPREZA LIMITED 2019', 'SUBARU IMPREZA SPORT 2020', 'SUBARU CROSSTREK HYBRID 2020']\n",
      "in_possible_platforms=True   platform=SUBARU IMPREZA LIMITED 2019      platforms=['SUBARU IMPREZA LIMITED 2019', 'SUBARU IMPREZA SPORT 2020', 'SUBARU CROSSTREK HYBRID 2020']\n",
      "in_possible_platforms=True   platform=SUBARU IMPREZA LIMITED 2019      platforms=['SUBARU IMPREZA LIMITED 2019', 'SUBARU IMPREZA SPORT 2020', 'SUBARU CROSSTREK HYBRID 2020']\n",
      "in_possible_platforms=True   platform=SUBARU IMPREZA LIMITED 2019      platforms=['SUBARU IMPREZA LIMITED 2019', 'SUBARU IMPREZA SPORT 2020', 'SUBARU CROSSTREK HYBRID 2020']\n",
      "in_possible_platforms=True   platform=SUBARU FORESTER 2022             platforms=['SUBARU FORESTER 2019', 'SUBARU FORESTER HYBRID 2020', 'SUBARU FORESTER 2022']\n",
      "in_possible_platforms=True   platform=SUBARU FORESTER 2022             platforms=['SUBARU FORESTER 2019', 'SUBARU FORESTER HYBRID 2020', 'SUBARU FORESTER 2022']\n",
      "in_possible_platforms=True   platform=SUBARU FORESTER 2022             platforms=['SUBARU FORESTER 2019', 'SUBARU FORESTER HYBRID 2020', 'SUBARU FORESTER 2022']\n",
      "in_possible_platforms=True   platform=SUBARU FORESTER 2022             platforms=['SUBARU FORESTER 2019', 'SUBARU FORESTER HYBRID 2020', 'SUBARU FORESTER 2022']\n",
      "in_possible_platforms=True   platform=SUBARU IMPREZA SPORT 2020        platforms=['SUBARU IMPREZA LIMITED 2019', 'SUBARU IMPREZA SPORT 2020', 'SUBARU CROSSTREK HYBRID 2020']\n",
      "in_possible_platforms=True   platform=SUBARU IMPREZA SPORT 2020        platforms=['SUBARU IMPREZA LIMITED 2019', 'SUBARU IMPREZA SPORT 2020', 'SUBARU CROSSTREK HYBRID 2020']\n",
      "in_possible_platforms=True   platform=SUBARU IMPREZA SPORT 2020        platforms=['SUBARU IMPREZA LIMITED 2019', 'SUBARU IMPREZA SPORT 2020', 'SUBARU CROSSTREK HYBRID 2020']\n",
      "in_possible_platforms=True   platform=SUBARU IMPREZA SPORT 2020        platforms=['SUBARU IMPREZA LIMITED 2019', 'SUBARU IMPREZA SPORT 2020', 'SUBARU CROSSTREK HYBRID 2020']\n",
      "in_possible_platforms=True   platform=SUBARU IMPREZA SPORT 2020        platforms=['SUBARU IMPREZA LIMITED 2019', 'SUBARU IMPREZA SPORT 2020', 'SUBARU CROSSTREK HYBRID 2020']\n",
      "in_possible_platforms=True   platform=SUBARU IMPREZA SPORT 2020        platforms=['SUBARU IMPREZA LIMITED 2019', 'SUBARU IMPREZA SPORT 2020', 'SUBARU CROSSTREK HYBRID 2020']\n",
      "in_possible_platforms=True   platform=SUBARU ASCENT 2023               platforms=['SUBARU ASCENT LIMITED 2019', 'SUBARU ASCENT 2023']\n",
      "in_possible_platforms=True   platform=SUBARU ASCENT LIMITED 2019       platforms=['SUBARU ASCENT LIMITED 2019', 'SUBARU ASCENT 2023']\n",
      "in_possible_platforms=True   platform=SUBARU ASCENT LIMITED 2019       platforms=['SUBARU ASCENT LIMITED 2019', 'SUBARU ASCENT 2023']\n",
      "in_possible_platforms=True   platform=SUBARU FORESTER 2019             platforms=['SUBARU FORESTER 2019', 'SUBARU FORESTER HYBRID 2020', 'SUBARU FORESTER 2022']\n",
      "in_possible_platforms=True   platform=SUBARU FORESTER 2019             platforms=['SUBARU FORESTER 2019', 'SUBARU FORESTER HYBRID 2020', 'SUBARU FORESTER 2022']\n",
      "in_possible_platforms=True   platform=SUBARU FORESTER 2019             platforms=['SUBARU FORESTER 2019', 'SUBARU FORESTER HYBRID 2020', 'SUBARU FORESTER 2022']\n",
      "in_possible_platforms=True   platform=SUBARU FORESTER 2019             platforms=['SUBARU FORESTER 2019', 'SUBARU FORESTER HYBRID 2020', 'SUBARU FORESTER 2022']\n",
      "in_possible_platforms=True   platform=SUBARU FORESTER 2019             platforms=['SUBARU FORESTER 2019', 'SUBARU FORESTER HYBRID 2020', 'SUBARU FORESTER 2022']\n",
      "in_possible_platforms=True   platform=SUBARU FORESTER 2019             platforms=['SUBARU FORESTER 2019', 'SUBARU FORESTER HYBRID 2020', 'SUBARU FORESTER 2022']\n"
     ]
    }
   ],
   "source": [
    "def test_platform_code(platform, platforms):\n",
    "  platforms = [str(p) for p in platforms]\n",
    "  in_possible_platforms = platform in platforms\n",
    "  print(f\"{in_possible_platforms=!s: <6} {platform=: <32} {platforms=}\")\n",
    "\n",
    "codes = get_codes(TEST_PLATFORMS, PLATFORM_CODES)\n",
    "for platform, possible_platforms in codes:\n",
    "  test_platform_code(platform, possible_platforms)"
   ]
  }
 ],
 "metadata": {
  "kernelspec": {
   "display_name": ".venv",
   "language": "python",
   "name": "python3"
  },
  "language_info": {
   "codemirror_mode": {
    "name": "ipython",
    "version": 3
   },
   "file_extension": ".py",
   "mimetype": "text/x-python",
   "name": "python",
   "nbconvert_exporter": "python",
   "pygments_lexer": "ipython3",
   "version": "3.11.4"
  }
 },
 "nbformat": 4,
 "nbformat_minor": 4
}
